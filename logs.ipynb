{
 "cells": [
  {
   "cell_type": "code",
   "execution_count": 2,
   "metadata": {},
   "outputs": [],
   "source": [
    "from WatsonLogger import WatsonLogger\n",
    "import HL_access as  access\n"
   ]
  },
  {
   "cell_type": "code",
   "execution_count": 2,
   "metadata": {},
   "outputs": [],
   "source": [
    "logs = WatsonLogger(access)\n",
    "df = logs.get_dataframe()"
   ]
  },
  {
   "cell_type": "code",
   "execution_count": 3,
   "metadata": {},
   "outputs": [
    {
     "output_type": "execute_result",
     "data": {
      "text/plain": "                        conversation id            request time  \\\n0  722ead71-bc0d-43e9-8ce0-11f344b89bfe 2020-04-30 07:00:28.997   \n1  722ead71-bc0d-43e9-8ce0-11f344b89bfe 2020-04-30 07:00:39.498   \n5  722ead71-bc0d-43e9-8ce0-11f344b89bfe 2020-04-30 07:00:47.216   \n3  98477252-4c15-4af6-8625-906a03be2635 2020-05-08 11:35:23.051   \n2  98477252-4c15-4af6-8625-906a03be2635 2020-05-08 11:35:32.138   \n4  98477252-4c15-4af6-8625-906a03be2635 2020-05-08 11:35:49.972   \n6  98477252-4c15-4af6-8625-906a03be2635 2020-05-08 11:36:03.654   \n8  f590096e-3f0d-47e8-a3ba-1393c8051581 2020-05-08 12:04:27.972   \n7  f590096e-3f0d-47e8-a3ba-1393c8051581 2020-05-08 12:04:55.188   \n\n            response time                        user input  \\\n0 2020-04-30 07:00:29.252                                     \n1 2020-04-30 07:00:39.572                      Kako igrati?   \n5 2020-04-30 07:00:47.331                      Kako igrati?   \n3 2020-05-08 11:35:23.064                                     \n2 2020-05-08 11:35:32.197                   koliko je sati?   \n4 2020-05-08 11:35:50.043  Koja je bila zadnja kombinacija?   \n6 2020-05-08 11:36:03.806           Reci mi koliko je sati?   \n8 2020-05-08 12:04:27.982                                     \n7 2020-05-08 12:04:55.211                      Kako igrati?   \n\n                                              output  \n0                         [ \"35 dana do apartmana\".]  \n1  [Na žalost, trenutno ovu informaciju ovdje nem...  \n5  [Na žalost, trenutno ovu informaciju ovdje nem...  \n3                         [ \"35 dana do apartmana\".]  \n2                                                 []  \n4  [Na žalost, trenutno ovu informaciju ovdje nem...  \n6              [Tu sam da pomognem, Im here to help]  \n8                         [ \"35 dana do apartmana\".]  \n7  [Odigraj listić sportskog klađenja za 15 kuna ...  ",
      "text/html": "<div>\n<style scoped>\n    .dataframe tbody tr th:only-of-type {\n        vertical-align: middle;\n    }\n\n    .dataframe tbody tr th {\n        vertical-align: top;\n    }\n\n    .dataframe thead th {\n        text-align: right;\n    }\n</style>\n<table border=\"1\" class=\"dataframe\">\n  <thead>\n    <tr style=\"text-align: right;\">\n      <th></th>\n      <th>conversation id</th>\n      <th>request time</th>\n      <th>response time</th>\n      <th>user input</th>\n      <th>output</th>\n    </tr>\n  </thead>\n  <tbody>\n    <tr>\n      <th>0</th>\n      <td>722ead71-bc0d-43e9-8ce0-11f344b89bfe</td>\n      <td>2020-04-30 07:00:28.997</td>\n      <td>2020-04-30 07:00:29.252</td>\n      <td></td>\n      <td>[ \"35 dana do apartmana\".]</td>\n    </tr>\n    <tr>\n      <th>1</th>\n      <td>722ead71-bc0d-43e9-8ce0-11f344b89bfe</td>\n      <td>2020-04-30 07:00:39.498</td>\n      <td>2020-04-30 07:00:39.572</td>\n      <td>Kako igrati?</td>\n      <td>[Na žalost, trenutno ovu informaciju ovdje nem...</td>\n    </tr>\n    <tr>\n      <th>5</th>\n      <td>722ead71-bc0d-43e9-8ce0-11f344b89bfe</td>\n      <td>2020-04-30 07:00:47.216</td>\n      <td>2020-04-30 07:00:47.331</td>\n      <td>Kako igrati?</td>\n      <td>[Na žalost, trenutno ovu informaciju ovdje nem...</td>\n    </tr>\n    <tr>\n      <th>3</th>\n      <td>98477252-4c15-4af6-8625-906a03be2635</td>\n      <td>2020-05-08 11:35:23.051</td>\n      <td>2020-05-08 11:35:23.064</td>\n      <td></td>\n      <td>[ \"35 dana do apartmana\".]</td>\n    </tr>\n    <tr>\n      <th>2</th>\n      <td>98477252-4c15-4af6-8625-906a03be2635</td>\n      <td>2020-05-08 11:35:32.138</td>\n      <td>2020-05-08 11:35:32.197</td>\n      <td>koliko je sati?</td>\n      <td>[]</td>\n    </tr>\n    <tr>\n      <th>4</th>\n      <td>98477252-4c15-4af6-8625-906a03be2635</td>\n      <td>2020-05-08 11:35:49.972</td>\n      <td>2020-05-08 11:35:50.043</td>\n      <td>Koja je bila zadnja kombinacija?</td>\n      <td>[Na žalost, trenutno ovu informaciju ovdje nem...</td>\n    </tr>\n    <tr>\n      <th>6</th>\n      <td>98477252-4c15-4af6-8625-906a03be2635</td>\n      <td>2020-05-08 11:36:03.654</td>\n      <td>2020-05-08 11:36:03.806</td>\n      <td>Reci mi koliko je sati?</td>\n      <td>[Tu sam da pomognem, Im here to help]</td>\n    </tr>\n    <tr>\n      <th>8</th>\n      <td>f590096e-3f0d-47e8-a3ba-1393c8051581</td>\n      <td>2020-05-08 12:04:27.972</td>\n      <td>2020-05-08 12:04:27.982</td>\n      <td></td>\n      <td>[ \"35 dana do apartmana\".]</td>\n    </tr>\n    <tr>\n      <th>7</th>\n      <td>f590096e-3f0d-47e8-a3ba-1393c8051581</td>\n      <td>2020-05-08 12:04:55.188</td>\n      <td>2020-05-08 12:04:55.211</td>\n      <td>Kako igrati?</td>\n      <td>[Odigraj listić sportskog klađenja za 15 kuna ...</td>\n    </tr>\n  </tbody>\n</table>\n</div>"
     },
     "metadata": {},
     "execution_count": 3
    }
   ],
   "source": [
    "df"
   ]
  },
  {
   "cell_type": "code",
   "execution_count": null,
   "metadata": {},
   "outputs": [],
   "source": []
  }
 ],
 "metadata": {
  "language_info": {
   "codemirror_mode": {
    "name": "ipython",
    "version": 3
   },
   "file_extension": ".py",
   "mimetype": "text/x-python",
   "name": "python",
   "nbconvert_exporter": "python",
   "pygments_lexer": "ipython3",
   "version": "3.7.0-final"
  },
  "orig_nbformat": 2,
  "kernelspec": {
   "name": "python3",
   "display_name": "Python 3"
  }
 },
 "nbformat": 4,
 "nbformat_minor": 2
}